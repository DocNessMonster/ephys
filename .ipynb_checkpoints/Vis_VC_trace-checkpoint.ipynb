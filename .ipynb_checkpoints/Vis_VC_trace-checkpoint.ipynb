{
 "cells": [
  {
   "cell_type": "markdown",
   "id": "00ca7d32-6186-4a93-82d9-ba153b02d06c",
   "metadata": {},
   "source": [
    "Visualize a Voltage Clamp Sweep. "
   ]
  },
  {
   "cell_type": "code",
   "execution_count": null,
   "id": "95920e62-60c8-4012-92e6-fd0ede4dc6ff",
   "metadata": {},
   "outputs": [],
   "source": [
    "import pyabf\n",
    "import matplotlib.pyplot as plt\n",
    "\n",
    "# Load the ABF file\n",
    "abf_path = \"hiPSC_53_0004.abf\"\n",
    "abf = pyabf.ABF(abf_path)\n",
    "\n",
    "# Plot all the traces in the ABF file\n",
    "abf.setSweep(13)  # Set the sweep to plot (0 for the first sweep)\n",
    "\n",
    "# Set the time range to plot (adjust as needed)\n",
    "start_time = 0.1  # seconds\n",
    "end_time = 0.25   # seconds\n",
    "\n",
    "# Find the corresponding indices for the specified time range\n",
    "start_index = int(start_time * abf.dataRate)\n",
    "end_index = int(end_time * abf.dataRate)\n",
    "\n",
    "# Plot the specified time range\n",
    "plt.figure(figsize=(10, 6))\n",
    "plt.plot(abf.sweepX[start_index:end_index], abf.sweepY[start_index:end_index], label=f\"Sweep {abf.sweepNumber}\")\n",
    "\n",
    "# Customize the plot as needed\n",
    "plt.title(\"Title\")\n",
    "plt.xlabel(\"Time (s)\")\n",
    "plt.ylabel(\"Current (pA)\")\n",
    "plt.legend()\n",
    "plt.grid(True)\n",
    "\n",
    "# Save the plot as a JPG file\n",
    "output_file = \"Trace.jpg\"\n",
    "plt.savefig(output_file, format=\"jpg\")\n",
    "\n",
    "plt.show()"
   ]
  },
  {
   "cell_type": "code",
   "execution_count": null,
   "id": "1f923d7b-de23-449f-a335-c266d9eea590",
   "metadata": {},
   "outputs": [],
   "source": []
  }
 ],
 "metadata": {
  "kernelspec": {
   "display_name": "Python 3 (ipykernel)",
   "language": "python",
   "name": "python3"
  },
  "language_info": {
   "codemirror_mode": {
    "name": "ipython",
    "version": 3
   },
   "file_extension": ".py",
   "mimetype": "text/x-python",
   "name": "python",
   "nbconvert_exporter": "python",
   "pygments_lexer": "ipython3",
   "version": "3.12.0"
  }
 },
 "nbformat": 4,
 "nbformat_minor": 5
}
