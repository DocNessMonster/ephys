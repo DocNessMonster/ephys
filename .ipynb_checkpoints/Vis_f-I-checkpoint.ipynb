{
 "cells": [
  {
   "cell_type": "markdown",
   "id": "341b917b",
   "metadata": {},
   "source": [
    "This program is used to visualize floating voltage traces from current clamp recording ABF files. \n",
    "\n",
    "First you need to import some libraries. Then you can run the program. Repeat as manay as you need to for all representative traces you need. "
   ]
  },
  {
   "cell_type": "code",
   "execution_count": null,
   "id": "a79a1a60",
   "metadata": {},
   "outputs": [],
   "source": [
    "import pyabf\n",
    "import matplotlib.pyplot as plt\n",
    "import matplotlib.cm as cm"
   ]
  },
  {
   "cell_type": "code",
   "execution_count": null,
   "id": "f4a993e5",
   "metadata": {},
   "outputs": [],
   "source": [
    "# Load the ABF file\n",
    "abf = pyabf.ABF(\"your_file.abf\")  # Replace \"your_file.abf\" with the path to your ABF file\n",
    "\n",
    "# Set the maximum sweep number\n",
    "max_sweep_number = 30  # Set your desired maximum sweep number here\n",
    "\n",
    "# Set figure size\n",
    "plt.figure(figsize=(8, 5))\n",
    "\n",
    "# Iterate over each sweep and plot\n",
    "for sweepNumber in abf.sweepList:\n",
    "    if sweepNumber > max_sweep_number:\n",
    "        break  # Stop plotting if sweep number exceeds the maximum limit\n",
    "    abf.setSweep(sweepNumber)\n",
    "    i1, i2 = 0, int(abf.sampleRate * 1)  # plot part of the sweep\n",
    "    dataX = abf.sweepX[i1:i2] + .025 * sweepNumber\n",
    "    dataY = abf.sweepY[i1:i2] + 15 * sweepNumber\n",
    "    plt.plot(dataX, dataY, color='red', alpha=0.5)  # Set alpha to 0 for full transparency\n",
    "    \n",
    "plt.gca().axis('off')  # hide axes to enhance floating effect\n",
    "\n",
    "# Make the background transparent\n",
    "plt.gcf().patch.set_facecolor('none')\n",
    "\n",
    "# Adjust plot layout to remove whitespace\n",
    "plt.tight_layout()\n",
    "\n",
    "# Export the plot as a PNG image\n",
    "plt.savefig(\"filename.png\", dpi=300, bbox_inches='tight', pad_inches=0, transparent=True)  # Change the file name as needed\n",
    "plt.show()"
   ]
  },
  {
   "cell_type": "markdown",
   "id": "340f2c37",
   "metadata": {},
   "source": [
    "Resources: \n",
    "Harden SW. pyabf: Python library for reading files in Axon Binary Format (ABF) [Internet]. 2022 [cited 2024 Apr 4]. Available from: http://swharden.com/pyabf"
   ]
  }
 ],
 "metadata": {
  "kernelspec": {
   "display_name": "Python 3 (ipykernel)",
   "language": "python",
   "name": "python3"
  },
  "language_info": {
   "codemirror_mode": {
    "name": "ipython",
    "version": 3
   },
   "file_extension": ".py",
   "mimetype": "text/x-python",
   "name": "python",
   "nbconvert_exporter": "python",
   "pygments_lexer": "ipython3",
   "version": "3.11.7"
  }
 },
 "nbformat": 4,
 "nbformat_minor": 5
}
