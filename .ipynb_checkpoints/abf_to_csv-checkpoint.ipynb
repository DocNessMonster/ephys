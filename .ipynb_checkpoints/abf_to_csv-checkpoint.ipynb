{
 "cells": [
  {
   "cell_type": "code",
   "execution_count": 8,
   "id": "8d4c2a40-8382-4a27-bf2b-f1b1de4a5f2b",
   "metadata": {},
   "outputs": [],
   "source": [
    "import pyabf\n",
    "import numpy as np \n",
    "import matplotlib.pyplot as plt\n",
    "import pandas as pd \n",
    "import os \n",
    "import csv"
   ]
  },
  {
   "cell_type": "code",
   "execution_count": 9,
   "id": "1286e13d-a831-4a02-a14a-053b79e00031",
   "metadata": {},
   "outputs": [
    {
     "data": {
      "text/plain": [
       "'HS23_SArest'"
      ]
     },
     "execution_count": 9,
     "metadata": {},
     "output_type": "execute_result"
    }
   ],
   "source": [
    "directory = \"HS23_SArest\"\n",
    "directory"
   ]
  },
  {
   "cell_type": "code",
   "execution_count": 12,
   "id": "194d807d-f694-4eb1-b5c2-317f95156ffd",
   "metadata": {},
   "outputs": [],
   "source": [
    "import os\n",
    "\n",
    "# Change directory to the parent directory\n",
    "os.chdir('basic_programs')"
   ]
  },
  {
   "cell_type": "code",
   "execution_count": 13,
   "id": "0cbf1ba7-5e33-4ec3-b48d-ced927323795",
   "metadata": {},
   "outputs": [
    {
     "data": {
      "text/plain": [
       "'C:\\\\Users\\\\nesia\\\\python\\\\ephys\\\\basic_programs'"
      ]
     },
     "execution_count": 13,
     "metadata": {},
     "output_type": "execute_result"
    }
   ],
   "source": [
    "current_directory = os.getcwd()\n",
    "current_directory"
   ]
  },
  {
   "cell_type": "code",
   "execution_count": 14,
   "id": "9f28a4b8-4406-4034-a21a-8f810da00ea8",
   "metadata": {},
   "outputs": [
    {
     "data": {
      "text/plain": [
       "['HS23_IL16_09_0002.abf',\n",
       " 'HS23_IL16_10_0002.abf',\n",
       " 'HS23_IL16_11_0002.abf',\n",
       " 'HS23_IL16_12_0002.abf',\n",
       " 'HS23_IL16_13_0002.abf',\n",
       " 'HS23_IL16_14_0002.abf',\n",
       " 'HS23_IL16_15_0002.abf',\n",
       " 'HS23_IL16_27_0002.abf',\n",
       " 'HS23_IL16_28_0002.abf',\n",
       " 'HS23_IL16_29_0002.abf',\n",
       " 'HS23_IL16_30_0002.abf',\n",
       " 'HS23_IL16_31_0002.abf',\n",
       " 'HS23_IL16_32_0002.abf',\n",
       " 'HS23_IL16_34_0002.abf',\n",
       " 'HS23_IL16_35_0002.abf',\n",
       " 'HS23_IL16_36_0002.abf',\n",
       " 'HS23_IL16_46_0002.abf',\n",
       " 'HS23_IL16_47_0002.abf',\n",
       " 'HS23_IL16_49_0002.abf',\n",
       " 'HS23_IL16_50_0002.abf',\n",
       " 'HS23_IL16_51_0002.abf',\n",
       " 'HS23_IL16_52_0002.abf',\n",
       " 'HS23_IL3_02_0002.abf',\n",
       " 'HS23_IL3_03_0002.abf',\n",
       " 'HS23_IL3_04_0002.abf',\n",
       " 'HS23_IL3_20_0002.abf',\n",
       " 'HS23_IL3_21_0002.abf',\n",
       " 'HS23_IL3_22_0002.abf',\n",
       " 'HS23_IL3_23_0002.abf',\n",
       " 'HS23_IL3_24_0002.abf',\n",
       " 'HS23_IL3_43_0002.abf',\n",
       " 'HS23_IL3_44_0002.abf',\n",
       " 'HS23_IL3_45_0002.abf',\n",
       " 'HS23_IL3_57_0002.abf',\n",
       " 'HS23_IL3_59_0002.abf',\n",
       " 'HS23_UT_00_0004.abf',\n",
       " 'HS23_UT_01_0002.abf',\n",
       " 'HS23_UT_05_0002.abf',\n",
       " 'HS23_UT_06_0002.abf',\n",
       " 'HS23_UT_07_0002.abf',\n",
       " 'HS23_UT_08_0002.abf',\n",
       " 'HS23_UT_16_0002.abf',\n",
       " 'HS23_UT_17_0002.abf',\n",
       " 'HS23_UT_18_0002.abf',\n",
       " 'HS23_UT_19_0002.abf',\n",
       " 'HS23_UT_37_0002.abf',\n",
       " 'HS23_UT_39_0002.abf',\n",
       " 'HS23_UT_40_0002.abf',\n",
       " 'HS23_UT_53_0002.abf',\n",
       " 'HS23_UT_54_0002.abf',\n",
       " 'HS23_UT_55_0002.abf',\n",
       " 'HS23_UT_56_0002.abf']"
      ]
     },
     "execution_count": 14,
     "metadata": {},
     "output_type": "execute_result"
    }
   ],
   "source": [
    "#Load Abf files\n",
    "directory = \"HS23_SArest\"\n",
    "abf_files = [f for f in os.listdir(directory) if f.endswith(\".abf\")]\n",
    "abf_files #print names of abf files in directory"
   ]
  },
  {
   "cell_type": "code",
   "execution_count": 15,
   "id": "4a11c2e0-0267-4d70-87cf-29cbd2db2931",
   "metadata": {},
   "outputs": [
    {
     "name": "stdout",
     "output_type": "stream",
     "text": [
      "Converted HS23_IL16_09_0002.abf to CSV\n",
      "Converted HS23_IL16_10_0002.abf to CSV\n",
      "Converted HS23_IL16_11_0002.abf to CSV\n",
      "Converted HS23_IL16_12_0002.abf to CSV\n",
      "Converted HS23_IL16_13_0002.abf to CSV\n",
      "Converted HS23_IL16_14_0002.abf to CSV\n",
      "Converted HS23_IL16_15_0002.abf to CSV\n",
      "Converted HS23_IL16_27_0002.abf to CSV\n",
      "Converted HS23_IL16_28_0002.abf to CSV\n",
      "Converted HS23_IL16_29_0002.abf to CSV\n",
      "Converted HS23_IL16_30_0002.abf to CSV\n",
      "Converted HS23_IL16_31_0002.abf to CSV\n",
      "Converted HS23_IL16_32_0002.abf to CSV\n",
      "Converted HS23_IL16_34_0002.abf to CSV\n",
      "Converted HS23_IL16_35_0002.abf to CSV\n",
      "Converted HS23_IL16_36_0002.abf to CSV\n",
      "Converted HS23_IL16_46_0002.abf to CSV\n",
      "Converted HS23_IL16_47_0002.abf to CSV\n",
      "Converted HS23_IL16_49_0002.abf to CSV\n",
      "Converted HS23_IL16_50_0002.abf to CSV\n",
      "Converted HS23_IL16_51_0002.abf to CSV\n",
      "Converted HS23_IL16_52_0002.abf to CSV\n",
      "Converted HS23_IL3_02_0002.abf to CSV\n",
      "Converted HS23_IL3_03_0002.abf to CSV\n",
      "Converted HS23_IL3_04_0002.abf to CSV\n",
      "Converted HS23_IL3_20_0002.abf to CSV\n",
      "Converted HS23_IL3_21_0002.abf to CSV\n",
      "Converted HS23_IL3_22_0002.abf to CSV\n",
      "Converted HS23_IL3_23_0002.abf to CSV\n",
      "Converted HS23_IL3_24_0002.abf to CSV\n",
      "Converted HS23_IL3_43_0002.abf to CSV\n",
      "Converted HS23_IL3_44_0002.abf to CSV\n",
      "Converted HS23_IL3_45_0002.abf to CSV\n",
      "Converted HS23_IL3_57_0002.abf to CSV\n",
      "Converted HS23_IL3_59_0002.abf to CSV\n",
      "Converted HS23_UT_00_0004.abf to CSV\n",
      "Converted HS23_UT_01_0002.abf to CSV\n",
      "Converted HS23_UT_05_0002.abf to CSV\n",
      "Converted HS23_UT_06_0002.abf to CSV\n",
      "Converted HS23_UT_07_0002.abf to CSV\n",
      "Converted HS23_UT_08_0002.abf to CSV\n",
      "Converted HS23_UT_16_0002.abf to CSV\n",
      "Converted HS23_UT_17_0002.abf to CSV\n",
      "Converted HS23_UT_18_0002.abf to CSV\n",
      "Converted HS23_UT_19_0002.abf to CSV\n",
      "Converted HS23_UT_37_0002.abf to CSV\n",
      "Converted HS23_UT_39_0002.abf to CSV\n",
      "Converted HS23_UT_40_0002.abf to CSV\n",
      "Converted HS23_UT_53_0002.abf to CSV\n",
      "Converted HS23_UT_54_0002.abf to CSV\n",
      "Converted HS23_UT_55_0002.abf to CSV\n",
      "Converted HS23_UT_56_0002.abf to CSV\n"
     ]
    }
   ],
   "source": [
    "def convert_abf_to_csv(abf_path, csv_path):\n",
    "    abf = pyabf.ABF(abf_path)\n",
    "    time = abf.sweepX * 1000  # Convert time to milliseconds\n",
    "    voltage = abf.sweepY  # Voltage in mV\n",
    "\n",
    "    # Combine time and voltage into a single array\n",
    "    data = np.column_stack((time, voltage))\n",
    "\n",
    "    # Save to CSV\n",
    "    np.savetxt(csv_path, data, delimiter=',', header='Time (ms), Voltage (mV)', comments='')\n",
    "\n",
    "def convert_batch_abf_to_csv(directory):\n",
    "    for filename in os.listdir(directory):\n",
    "        if filename.endswith('.abf'):\n",
    "            abf_path = os.path.join(directory, filename)\n",
    "            csv_path = os.path.join(directory, f\"{os.path.splitext(filename)[0]}.csv\")\n",
    "            convert_abf_to_csv(abf_path, csv_path)\n",
    "            print(f\"Converted {filename} to CSV\")\n",
    "\n",
    "# Set the directory containing the ABF files\n",
    "abf_directory = 'HS23_SArest'\n",
    "\n",
    "# Convert all ABF files in the directory to CSV\n",
    "convert_batch_abf_to_csv(abf_directory)\n"
   ]
  },
  {
   "cell_type": "code",
   "execution_count": 16,
   "id": "d301125d-da9a-445c-8ac4-545e16fb44ee",
   "metadata": {},
   "outputs": [
    {
     "name": "stdout",
     "output_type": "stream",
     "text": [
      "All .csv files have been moved successfully.\n"
     ]
    }
   ],
   "source": [
    "import os\n",
    "import shutil\n",
    "\n",
    "# Define the source and destination directories\n",
    "source_dir = \"HS23_SArest\"\n",
    "destination_dir = \"HS23_SArest_csv\"\n",
    "\n",
    "# Create the destination directory if it doesn't exist\n",
    "if not os.path.exists(destination_dir):\n",
    "    os.makedirs(destination_dir)\n",
    "\n",
    "# Loop through all the files in the source directory\n",
    "for filename in os.listdir(source_dir):\n",
    "    # Check if the file is a .csv file\n",
    "    if filename.endswith(\".csv\"):\n",
    "        # Construct full file path\n",
    "        source_file = os.path.join(source_dir, filename)\n",
    "        destination_file = os.path.join(destination_dir, filename)\n",
    "        # Move the file\n",
    "        shutil.move(source_file, destination_file)\n",
    "\n",
    "print(\"All .csv files have been moved successfully.\")"
   ]
  },
  {
   "cell_type": "code",
   "execution_count": 18,
   "id": "71d9a782-e4cb-4cfe-9440-ab0e92fc6d62",
   "metadata": {},
   "outputs": [
    {
     "name": "stdout",
     "output_type": "stream",
     "text": [
      "All matching .csv files have been moved successfully.\n"
     ]
    }
   ],
   "source": [
    "import os\n",
    "import shutil\n",
    "\n",
    "# Define the source directory\n",
    "source_dir = \"HS23_SArest_csv\"\n",
    "\n",
    "# Define the destination directory\n",
    "destination_dir = \"HS23_DSFs_rest\"\n",
    "\n",
    "# Create the destination directory if it doesn't exist\n",
    "if not os.path.exists(destination_dir):\n",
    "    os.makedirs(destination_dir)\n",
    "\n",
    "# Loop through all the files in the source directory\n",
    "for filename in os.listdir(source_dir):\n",
    "    # Check if the file is a .csv file and contains 'results_evts' in its name\n",
    "    if filename.endswith(\".csv\") and \"results_evts\" in filename:\n",
    "        # Construct full file path\n",
    "        source_file = os.path.join(source_dir, filename)\n",
    "        destination_file = os.path.join(destination_dir, filename)\n",
    "        # Move the file\n",
    "        shutil.move(source_file, destination_file)\n",
    "\n",
    "print(\"All matching .csv files have been moved successfully.\")\n"
   ]
  },
  {
   "cell_type": "code",
   "execution_count": null,
   "id": "d37535d5-9c15-44c7-961a-a174ee6cc1cf",
   "metadata": {},
   "outputs": [],
   "source": []
  }
 ],
 "metadata": {
  "kernelspec": {
   "display_name": "Python 3 (ipykernel)",
   "language": "python",
   "name": "python3"
  },
  "language_info": {
   "codemirror_mode": {
    "name": "ipython",
    "version": 3
   },
   "file_extension": ".py",
   "mimetype": "text/x-python",
   "name": "python",
   "nbconvert_exporter": "python",
   "pygments_lexer": "ipython3",
   "version": "3.12.0"
  }
 },
 "nbformat": 4,
 "nbformat_minor": 5
}
