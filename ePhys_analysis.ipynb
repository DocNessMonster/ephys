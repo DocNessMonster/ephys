{
 "cells": [
  {
   "cell_type": "markdown",
   "id": "b058ce96",
   "metadata": {},
   "source": [
    "Import all the packages needed. You may need to download the programs using pip. "
   ]
  },
  {
   "cell_type": "code",
   "execution_count": null,
   "id": "3be418e9-8382-4fbb-bf5b-9cc14bbf994f",
   "metadata": {},
   "outputs": [],
   "source": [
    "import pyabf\n",
    "import numpy as np \n",
    "import matplotlib.pyplot as plt\n",
    "import pandas as pd \n",
    "import os \n",
    "import csv"
   ]
  },
  {
   "cell_type": "markdown",
   "id": "8a1f6558",
   "metadata": {},
   "source": [
    "Path to directory with your ABF files. Change the path to your directory as appropriate. Include only Current Step protocols. This code is wriiten for current steps starting at -100pA increasing by 10pA each step. The current input starts at 0.025s and runs for 0.5 seconds. You may need to adjust other parts of the code to account for diiferent step protocols."
   ]
  },
  {
   "cell_type": "code",
   "execution_count": null,
   "id": "15013db3-0196-4d29-9102-28e3de380f03",
   "metadata": {},
   "outputs": [],
   "source": [
    "directory = \"path/to/your/directory\"\n",
    "directory"
   ]
  },
  {
   "cell_type": "code",
   "execution_count": null,
   "id": "ab12277a-7604-4aed-82ca-3476522e830d",
   "metadata": {},
   "outputs": [],
   "source": [
    "current_directory = os.getcwd()\n",
    "current_directory"
   ]
  },
  {
   "cell_type": "markdown",
   "id": "fada0dbf",
   "metadata": {},
   "source": [
    "Add all your ABF files into the directory prior to running code. Make sure you change the directory name to your directory. "
   ]
  },
  {
   "cell_type": "code",
   "execution_count": null,
   "id": "653d0af4-709a-4ddb-906b-ebbe0fbf423b",
   "metadata": {},
   "outputs": [],
   "source": [
    "#Load Abf files\n",
    "directory = \"your_directory\"\n",
    "abf_files = [f for f in os.listdir(directory) if f.endswith(\".abf\")]\n",
    "abf_files #print names of abf files in directory"
   ]
  },
  {
   "cell_type": "markdown",
   "id": "7611c730",
   "metadata": {},
   "source": [
    "Initialize a DataFrame with the features the code is extracting. "
   ]
  },
  {
   "cell_type": "code",
   "execution_count": null,
   "id": "b6fbf3a3-3ed5-402a-a961-104127b941c3",
   "metadata": {},
   "outputs": [],
   "source": [
    "results = pd.DataFrame(columns=[\"File\", \"RMP\", \"SS\", \"deltaSS\", \"Sag\", \"R_in\", \"rebound\", \"rheobase\", \"FSL\"])\n",
    "results"
   ]
  },
  {
   "cell_type": "markdown",
   "id": "e231a5b1",
   "metadata": {},
   "source": [
    "Set time ranges for each part of current step protocol. Adjust as needed if you use a different current step protocol. "
   ]
  },
  {
   "cell_type": "code",
   "execution_count": null,
   "id": "ba669ac3-ebdd-4004-8d39-9feafecf6c6f",
   "metadata": {},
   "outputs": [],
   "source": [
    "x_range1 = (0, 0.025) #the time before current input\n",
    "x_range2 = (0.4, 0.499) #the last 100ms of the current input\n",
    "x_range3 = (0.03, 0.3) #the beggining of the current input\n",
    "x_range4 = (0.525, 1.025) #the time after current input \n",
    "x_range5 = (0.025, 0.525) #the time range for the current input "
   ]
  },
  {
   "cell_type": "markdown",
   "id": "c7175399",
   "metadata": {},
   "source": [
    "The 'for' loop below goes through each ABF file, extracts the features, and adds the data to the dataframe. "
   ]
  },
  {
   "cell_type": "code",
   "execution_count": null,
   "id": "fae8c8f5-378f-4690-99b9-32ea028edd18",
   "metadata": {
    "scrolled": true
   },
   "outputs": [],
   "source": [
    "for abf_file in abf_files: #Loop through abf files\n",
    "    abf_file_path = os.path.join(directory, abf_file)\n",
    "\n",
    "    abf=pyabf.ABF(abf_file_path) #Open the abf file\n",
    "\n",
    "    sweep_number = 0\n",
    "    abf.setSweep(sweep_number)\n",
    "\n",
    "    #calculate RMP of the first sweep, generally -100pA\n",
    "    x_min1, x_max1 = x_range1\n",
    "    rmp = abf.sweepY[(abf.sweepX >= x_min1) & (abf.sweepX <= x_max1)].mean()\n",
    "\n",
    "    #calculate Steady State voltage for thefirst sweep\n",
    "    x_min2, x_max2 = x_range2\n",
    "    ss = abf.sweepY[(abf.sweepX >= x_min2) & (abf.sweepX <= x_max2)].mean()\n",
    "    \n",
    "    #calculate the lowest volatge at the beggining of the first sweep \n",
    "    x_min3, x_max3 = x_range3\n",
    "    minval = abf.sweepY[(abf.sweepX >= x_min3) & (abf.sweepX <= x_max3)].min()\n",
    "\n",
    "    #calculate the difference between Steady State and RMP \n",
    "    delta_ss = ss-rmp\n",
    "\n",
    "    #calculate Sag percentage\n",
    "    sag = ((minval-ss)/delta_ss)*100\n",
    "\n",
    "    #calculate the current input of the first sweep\n",
    "    time_point = 0.4\n",
    "\n",
    "    data_index = int(time_point * abf.dataRate)\n",
    "    \n",
    "    I = abf.sweepC[data_index]\n",
    "\n",
    "    #calculatue input resistance\n",
    "    R_in = delta_ss / I *1000\n",
    "\n",
    "    # Define the range of sweeps you want to check for rebound firing (first 10 sweeps)\n",
    "    start_sweep = 0\n",
    "    end_sweep = 9\n",
    "\n",
    "    # Initialize a variable to store spike detection result\n",
    "    spike_detected = 0\n",
    "\n",
    "    # Iterate through the specified sweeps\n",
    "    for sweep_number in range(start_sweep, end_sweep + 1):\n",
    "        # Set the sweep number\n",
    "        abf.setSweep(sweepNumber=sweep_number)\n",
    "\n",
    "        # Extract the voltage values for the last 0.5 seconds\n",
    "        voltage_last_half_second = abf.sweepY[(abf.sweepX >= x_range4[0]) & (abf.sweepX <= x_range4[1])]\n",
    "\n",
    "        # Check for a spike/rebound firing (for simplicity, checking if the maximum voltage is above a certain threshold)\n",
    "        spike_threshold = 5  # Replace with your threshold value\n",
    "        if np.max(voltage_last_half_second) > spike_threshold:\n",
    "            spike_detected = 1\n",
    "            break  # Exit the loop if a spike/rebound firing is detected\n",
    "\n",
    "    # Initialize variables for Rheobase calculation\n",
    "    rheobase = np.nan  # Default to NaN if no Rheobase is found\n",
    "    fsl = np.nan  # Default to NaN if no spike is detected\n",
    "\n",
    "    # Set the starting sweep number to 11, the first sweep with positive current input\n",
    "    start_sweep = 11\n",
    "\n",
    "    # Iterate through sweeps to find Rheobase\n",
    "    for sweep_number in range(start_sweep, abf.sweepCount):\n",
    "        abf.setSweep(sweep_number)\n",
    "\n",
    "        # Extract the voltage values for x_range5\n",
    "        voltage_range5 = abf.sweepY[(abf.sweepX >= x_range5[0]) & (abf.sweepX <= x_range5[1])]\n",
    "        # Check for a spike (checking if any voltage value exceeds the threshold)\n",
    "        spike_threshold_rheo = 10  # Set spike threshold for rheobase to 5 mV\n",
    "        if np.any(voltage_range5 > spike_threshold_rheo):\n",
    "            # Set Rheobase as the current at x_range5\n",
    "            rheobase_time_point = 0.3  # Adjust as needed\n",
    "            rheobase = abf.sweepC[int(rheobase_time_point * abf.dataRate)]\n",
    "        \n",
    "            # Calculate FSL (time from the start of the sweep to the first spike)\n",
    "            fsl = abf.sweepX[np.argmax(voltage_range5)] * 1000\n",
    "            break  # Exit the loop if Rheobase is found\n",
    "            \n",
    "    sweep_result = pd.DataFrame({\n",
    "        \"File\": abf_file, \n",
    "        \"RMP\": rmp, \n",
    "        \"SS\": ss, \n",
    "        \"deltaSS\": delta_ss, \n",
    "        \"Sag\": sag, \n",
    "        \"R_in\": R_in,\n",
    "        \"rebound\": spike_detected,\n",
    "        \"rheobase\": rheobase,\n",
    "        \"FSL\": fsl}, \n",
    "            index=[0]\n",
    "                          )\n",
    "    results = pd.concat([results, sweep_result], axis=0, ignore_index=True)\n",
    "\n",
    "print (results)"
   ]
  },
  {
   "cell_type": "markdown",
   "id": "34d22df6",
   "metadata": {},
   "source": [
    "Save your DataFrame as a CSV. Make sure to change the filename to suit your needs. "
   ]
  },
  {
   "cell_type": "code",
   "execution_count": null,
   "id": "c675920c-b01e-4a5d-b968-5d30c6bed049",
   "metadata": {},
   "outputs": [],
   "source": [
    "file_name = \"file_name.csv\"\n",
    "results.to_csv(file_name, index=False)"
   ]
  }
 ],
 "metadata": {
  "kernelspec": {
   "display_name": "Python 3 (ipykernel)",
   "language": "python",
   "name": "python3"
  },
  "language_info": {
   "codemirror_mode": {
    "name": "ipython",
    "version": 3
   },
   "file_extension": ".py",
   "mimetype": "text/x-python",
   "name": "python",
   "nbconvert_exporter": "python",
   "pygments_lexer": "ipython3",
   "version": "3.12.0"
  }
 },
 "nbformat": 4,
 "nbformat_minor": 5
}
