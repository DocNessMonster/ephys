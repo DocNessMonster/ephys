{
 "cells": [
  {
   "cell_type": "markdown",
   "id": "4459b56d-26eb-4e4d-bda7-5f78a48a2ffe",
   "metadata": {},
   "source": [
    "This notebook converts single sweep Current Clamp ABF files into CSV files with 2 columns, Time and Voltage. "
   ]
  },
  {
   "cell_type": "markdown",
   "id": "fb688026-9d60-4e75-a8de-a404c437b829",
   "metadata": {},
   "source": [
    "Import the packages needed. "
   ]
  },
  {
   "cell_type": "code",
   "execution_count": null,
   "id": "7e9ea799-6aee-4ec6-8b27-4c2689e91601",
   "metadata": {},
   "outputs": [],
   "source": [
    "import pyabf\n",
    "import numpy as np \n",
    "import matplotlib.pyplot as plt\n",
    "import pandas as pd \n",
    "import os \n",
    "import csv\n",
    "import shutil"
   ]
  },
  {
   "cell_type": "markdown",
   "id": "2304f001-a2c8-421e-8b95-5e11811ed7e0",
   "metadata": {},
   "source": [
    "Set the directory"
   ]
  },
  {
   "cell_type": "code",
   "execution_count": null,
   "id": "194d807d-f694-4eb1-b5c2-317f95156ffd",
   "metadata": {},
   "outputs": [],
   "source": [
    "# Change directory to the parent directory\n",
    "os.chdir('path/to/directory/with/jupyter/notebook')"
   ]
  },
  {
   "cell_type": "markdown",
   "id": "d06c3077-5227-4371-8dab-3fee7ee674c1",
   "metadata": {},
   "source": [
    "Check to make sure you are in the right directory"
   ]
  },
  {
   "cell_type": "code",
   "execution_count": null,
   "id": "0cbf1ba7-5e33-4ec3-b48d-ced927323795",
   "metadata": {},
   "outputs": [],
   "source": [
    "current_directory = os.getcwd()\n",
    "current_directory"
   ]
  },
  {
   "cell_type": "markdown",
   "id": "9a82133c-3744-4770-81df-c36b8f29dddd",
   "metadata": {},
   "source": [
    "Put all your files in a folder in a sub-directory. Then load the files. "
   ]
  },
  {
   "cell_type": "code",
   "execution_count": null,
   "id": "9f28a4b8-4406-4034-a21a-8f810da00ea8",
   "metadata": {},
   "outputs": [],
   "source": [
    "#Load ABF files\n",
    "directory = \"path/to/your/directory\" #directory with ABF files to convert to CSV\n",
    "abf_files = [f for f in os.listdir(directory) if f.endswith(\".abf\")]\n",
    "abf_files #print names of abf files in directory"
   ]
  },
  {
   "cell_type": "markdown",
   "id": "b0b5da03-79cf-48a1-b832-e84620d3e81b",
   "metadata": {},
   "source": [
    "The following code converts a single sweep ABF file into a CSV file with 2 columns, Time and Voltage. "
   ]
  },
  {
   "cell_type": "code",
   "execution_count": null,
   "id": "4a11c2e0-0267-4d70-87cf-29cbd2db2931",
   "metadata": {},
   "outputs": [],
   "source": [
    "def convert_abf_to_csv(abf_path, csv_path):\n",
    "    abf = pyabf.ABF(abf_path)\n",
    "    time = abf.sweepX * 1000  # Convert time to milliseconds\n",
    "    voltage = abf.sweepY  # Voltage in mV\n",
    "\n",
    "    # Combine time and voltage into a single array\n",
    "    data = np.column_stack((time, voltage))\n",
    "\n",
    "    # Save to CSV\n",
    "    np.savetxt(csv_path, data, delimiter=',', header='Time (ms), Voltage (mV)', comments='')\n",
    "\n",
    "def convert_batch_abf_to_csv(directory):\n",
    "    for filename in os.listdir(directory):\n",
    "        if filename.endswith('.abf'):\n",
    "            abf_path = os.path.join(directory, filename)\n",
    "            csv_path = os.path.join(directory, f\"{os.path.splitext(filename)[0]}.csv\")\n",
    "            convert_abf_to_csv(abf_path, csv_path)\n",
    "            print(f\"Converted {filename} to CSV\")\n",
    "\n",
    "# Set the directory containing the ABF files\n",
    "abf_directory = 'path/to/your/directory'\n",
    "\n",
    "# Convert all ABF files in the directory to CSV\n",
    "convert_batch_abf_to_csv(abf_directory)\n"
   ]
  },
  {
   "cell_type": "markdown",
   "id": "9103a937-e874-4efe-b994-e218e0135187",
   "metadata": {},
   "source": [
    "The next code moves the CSV files to a new directory. Make sure you you give a new name for the directory you want to move the files to. "
   ]
  },
  {
   "cell_type": "code",
   "execution_count": null,
   "id": "d301125d-da9a-445c-8ac4-545e16fb44ee",
   "metadata": {},
   "outputs": [],
   "source": [
    "# Define the source and destination directories\n",
    "source_dir = \"path/to/source/directory\"\n",
    "destination_dir = \"path/to/destination/directory\"\n",
    "\n",
    "# Create the destination directory if it doesn't exist\n",
    "if not os.path.exists(destination_dir):\n",
    "    os.makedirs(destination_dir)\n",
    "\n",
    "# Loop through all the files in the source directory\n",
    "for filename in os.listdir(source_dir):\n",
    "    # Check if the file is a .csv file\n",
    "    if filename.endswith(\".csv\"):\n",
    "        # Construct full file path\n",
    "        source_file = os.path.join(source_dir, filename)\n",
    "        destination_file = os.path.join(destination_dir, filename)\n",
    "        # Move the file\n",
    "        shutil.move(source_file, destination_file)\n",
    "\n",
    "print(\"All .csv files have been moved successfully.\")"
   ]
  },
  {
   "cell_type": "code",
   "execution_count": null,
   "id": "d37535d5-9c15-44c7-961a-a174ee6cc1cf",
   "metadata": {},
   "outputs": [],
   "source": []
  }
 ],
 "metadata": {
  "kernelspec": {
   "display_name": "Python 3 (ipykernel)",
   "language": "python",
   "name": "python3"
  },
  "language_info": {
   "codemirror_mode": {
    "name": "ipython",
    "version": 3
   },
   "file_extension": ".py",
   "mimetype": "text/x-python",
   "name": "python",
   "nbconvert_exporter": "python",
   "pygments_lexer": "ipython3",
   "version": "3.12.0"
  }
 },
 "nbformat": 4,
 "nbformat_minor": 5
}
